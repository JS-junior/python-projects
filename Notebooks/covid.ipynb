{
 "cells": [
  {
   "cell_type": "code",
   "execution_count": 12,
   "id": "60f7642b",
   "metadata": {},
   "outputs": [],
   "source": [
    "%matplotlib inline\n",
    "import matplotlib.pyplot as plt\n",
    "import numpy as np\n",
    "import pandas as pd\n"
   ]
  },
  {
   "cell_type": "code",
   "execution_count": 13,
   "id": "924329ca",
   "metadata": {},
   "outputs": [
    {
     "data": {
      "text/html": [
       "<div>\n",
       "<style scoped>\n",
       "    .dataframe tbody tr th:only-of-type {\n",
       "        vertical-align: middle;\n",
       "    }\n",
       "\n",
       "    .dataframe tbody tr th {\n",
       "        vertical-align: top;\n",
       "    }\n",
       "\n",
       "    .dataframe thead th {\n",
       "        text-align: right;\n",
       "    }\n",
       "</style>\n",
       "<table border=\"1\" class=\"dataframe\">\n",
       "  <thead>\n",
       "    <tr style=\"text-align: right;\">\n",
       "      <th></th>\n",
       "      <th>Employee</th>\n",
       "      <th>Salary</th>\n",
       "    </tr>\n",
       "  </thead>\n",
       "  <tbody>\n",
       "    <tr>\n",
       "      <th>0</th>\n",
       "      <td>ram</td>\n",
       "      <td>100</td>\n",
       "    </tr>\n",
       "    <tr>\n",
       "      <th>1</th>\n",
       "      <td>Bihari</td>\n",
       "      <td>1000</td>\n",
       "    </tr>\n",
       "    <tr>\n",
       "      <th>2</th>\n",
       "      <td>Sam</td>\n",
       "      <td>70</td>\n",
       "    </tr>\n",
       "  </tbody>\n",
       "</table>\n",
       "</div>"
      ],
      "text/plain": [
       "  Employee  Salary\n",
       "0      ram     100\n",
       "1   Bihari    1000\n",
       "2      Sam      70"
      ]
     },
     "execution_count": 13,
     "metadata": {},
     "output_type": "execute_result"
    }
   ],
   "source": [
    "tf = pd.DataFrame({\n",
    "    \"Employee\" : [\"ram\", \"Bihari\", \"Sam\",\"ram\", \"Bihari\"],\n",
    "    \"Salary\" : [ 100, 1000, 70, 60, 50 ]\n",
    "    })\n",
    "tf.dropna(inplace=True)\n",
    "tf.drop_duplicates(subset=[\"Employee\"], keep='first', inplace=True)\n",
    "tf\n"
   ]
  },
  {
   "cell_type": "code",
   "execution_count": 79,
   "id": "8c9b02bc",
   "metadata": {},
   "outputs": [
    {
     "data": {
      "text/plain": [
       "<matplotlib.legend.Legend at 0x7ece8d3df0>"
      ]
     },
     "execution_count": 79,
     "metadata": {},
     "output_type": "execute_result"
    },
    {
     "data": {
      "image/png": "[encoded data removed]",
      "text/plain": [
       "<Figure size 432x288 with 1 Axes>"
      ]
     },
     "metadata": {},
     "output_type": "display_data"
    }
   ],
   "source": [
    "data = pd.read_csv('covid_19_data.csv')\n",
    "df = pd.DataFrame(data)\n",
    "df.rename(columns={ \"ObservationDate\":\"timestamp\",\"Province/State\": \"State\", \"Country/Region\": \"Country\"}, inplace=True )\n",
    "df.dropna(inplace=True)\n",
    "city_index = df[df[\"Country\"]== \"India\"].index.values\n",
    "countries = df.groupby('Country')\n",
    "confirmed = df.loc[city_index, \"Confirmed\"].values\n",
    "deaths = df.loc[city_index, \"Deaths\"].values\n",
    "recovered = df.loc[city_index, \"Recovered\"].values\n",
    "x = np.arange(1)\n",
    "bar = [ deaths.max(), recovered.max(), confirmed.max() ]\n",
    "fig = plt.figure()\n",
    "axes = fig.add_axes([0,0,1,1])\n",
    "fig.set_facecolor(\"#e6dfed\")\n",
    "axes.set_title('Covid19 Visualization')\n",
    "axes.set_xlabel(\"India\")\n",
    "axes.set_facecolor(\"#e6dfed\")\n",
    "axes.bar(x + 0.2,deaths.max(), width=0.3,label=\"deaths\")\n",
    "axes.bar(x + 0.5,recovered.max(),width=0.3, label=\"recoveries\")\n",
    "axes.bar(x + 0.8, confirmed.max(),width=0.3,label=\"Confirmed\")\n",
    "axes.set_xticks(np.arange(3))\n",
    "axes.text(x + 0.08,deaths.max(),deaths.max(), fontsize = 15) \n",
    "axes.text(x + 0.4,recovered.max(),recovered.max()) \n",
    "axes.text(x + 0.7, confirmed.max(), confirmed.max()) \n",
    "axes.legend()\n"
   ]
  },
  {
   "cell_type": "code",
   "execution_count": null,
   "id": "9a7792c3",
   "metadata": {
    "scrolled": true
   },
   "outputs": [],
   "source": [
    "\n",
    "\n"
   ]
  },
  {
   "cell_type": "code",
   "execution_count": null,
   "id": "8c85f550",
   "metadata": {
    "scrolled": true
   },
   "outputs": [],
   "source": [
    "\n"
   ]
  },
  {
   "cell_type": "code",
   "execution_count": null,
   "id": "a112c3d2",
   "metadata": {},
   "outputs": [],
   "source": [
    "\n",
    "\n"
   ]
  },
  {
   "cell_type": "code",
   "execution_count": null,
   "id": "1db4a33f",
   "metadata": {},
   "outputs": [],
   "source": [
    "\n",
    "\n",
    "\n"
   ]
  },
  {
   "cell_type": "code",
   "execution_count": null,
   "id": "611ae88c",
   "metadata": {},
   "outputs": [],
   "source": [
    "\n",
    "\n",
    "\n"
   ]
  },
  {
   "cell_type": "code",
   "execution_count": null,
   "id": "7dcbc250",
   "metadata": {},
   "outputs": [],
   "source": [
    "\n",
    "\n",
    "\n"
   ]
  }
 ],
 "metadata": {
  "kernelspec": {
   "display_name": "Python 3 (ipykernel)",
   "language": "python",
   "name": "python3"
  },
  "language_info": {
   "codemirror_mode": {
    "name": "ipython",
    "version": 3
   },
   "file_extension": ".py",
   "mimetype": "text/x-python",
   "name": "python",
   "nbconvert_exporter": "python",
   "pygments_lexer": "ipython3",
   "version": "3.8.3"
  }
 },
 "nbformat": 4,
 "nbformat_minor": 5
}
